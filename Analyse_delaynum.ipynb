{
 "cells": [
  {
   "cell_type": "code",
   "execution_count": 10,
   "metadata": {},
   "outputs": [],
   "source": [
    "# ce notebook fait une analyse du retard en fonction du temps pour des faibles retards \n",
    "import numpy as np \n",
    "import pandas as pd \n",
    "import scipy as sc \n",
    "import matplotlib.pyplot as plt \n",
    "from itertools import product\n",
    "from sklearn import linear_model\n",
    "from sklearn.utils import shuffle\n",
    "import seaborn as sns\n",
    "\n",
    "import missingno as msno\n",
    "\n",
    "%matplotlib inline\n",
    "import numpy as np\n",
    "import matplotlib.pyplot as plt\n",
    "\n",
    "from sklearn.preprocessing import StandardScaler\n",
    "from sklearn.preprocessing import PolynomialFeatures\n",
    "from sklearn import decomposition\n",
    "from sklearn.cluster import KMeans\n",
    "from sklearn.model_selection import train_test_split\n",
    "from sklearn import neighbors, metrics\n",
    "from sklearn import preprocessing\n",
    "from sklearn import linear_model\n",
    "from sklearn.linear_model import LogisticRegression\n",
    "from sklearn.model_selection import cross_val_predict\n",
    "from sklearn import kernel_ridge\n",
    "from sklearn.model_selection import cross_val_score\n",
    "from sklearn.model_selection import GridSearchCV\n",
    "from sklearn import dummy\n",
    "\n",
    "from sklearn import (manifold, datasets, decomposition, ensemble,discriminant_analysis, random_projection)"
   ]
  },
  {
   "cell_type": "markdown",
   "metadata": {},
   "source": [
    "On annalyse ici différent modèles de regression linéaire et polynomiale avec ou sans régularisation en fonction des différentes variables prises en compte.\n",
    "\n",
    "Trois étapes de temps sont à considérer : En premier lieu le retard prévisible longtemps à l'avance ( on base notre analyse sur le retard au départ )\n",
    "Ensuite le retard prévisible quelques heures à l'avance ( on base notre analyse sur le retard au départ )\n",
    "enfin le retard prévisible une fois que l'on connait l'heure de départ de l'avion ( on base notre analyse sur le retard à l'arrivé )"
   ]
  },
  {
   "cell_type": "markdown",
   "metadata": {},
   "source": [
    "Tous nos modèles vont être testé via une validation croisée sur le jeux d'entrainement, un pré-choix des différents paramétres de régularisation sera effectué via une validation croisée par grille sur la base de la meilleure RMSE. Le choix final se faira sur la base de la meilleure RMSE  (on ne tient pas compte d'éventuelles restrictions de temps de calcul). Enfin, la performance du modèle final sera donnée en l'évaluant via le jeux de test. Le modèle final pourra ensuite être entrainé sur l'ensemble du jeux de donnée."
   ]
  },
  {
   "cell_type": "code",
   "execution_count": 11,
   "metadata": {},
   "outputs": [],
   "source": [
    "# ouvrir le dataset : \n",
    "\n",
    "data_fly = pd.read_csv('DF_CASCADE_DEST.csv')"
   ]
  },
  {
   "cell_type": "markdown",
   "metadata": {},
   "source": [
    "On définie une fonction qui analyse via une cross-validation sur 5 folds les retards de regression linéaires simples non régularisées. "
   ]
  },
  {
   "cell_type": "code",
   "execution_count": 3,
   "metadata": {},
   "outputs": [],
   "source": [
    "# cette fonction retourne à la fois la rmse du modèle linéaire ou polynomiale (param n) (sans régularisation)\n",
    "# et la rmse du classifieur naif.\n",
    "def analyse(X_fit,y_fit,n):\n",
    "    # ajouter des features polynomiales couplées \n",
    "    poly = PolynomialFeatures(n)\n",
    "    X_fit = poly.fit_transform(X_fit)\n",
    "    y_fit = y_fit  \n",
    "    \n",
    "    # on va standardiser les données de telle sorte à ce que \n",
    "    std_scale = preprocessing.StandardScaler().fit(X_fit)\n",
    "    X_fit = std_scale.transform(X_fit)  \n",
    "  \n",
    "    \n",
    "    # modèle de regression linéaire \n",
    "    reg = linear_model.LinearRegression()\n",
    "    # évaluation de la rmse par validation croisée (sur 5 folds)\n",
    "    y_predict_lr = cross_val_predict(reg,X_fit,y_fit,cv=5)\n",
    "    rmse_mod = np.sqrt(metrics.mean_squared_error(y_fit, y_predict_lr[:,0]))\n",
    "    print (\"RMSE modèle : %.2f\" % rmse_mod)\n",
    "    # comparer à un classifieur naif \n",
    "    dum = dummy.DummyRegressor(strategy='mean')\n",
    "    # Entraînement\n",
    "    dum.fit(X_fit, y_fit)\n",
    "    # Prédiction sur le jeu de test\n",
    "    y_pred_dum = dum.predict(X_fit)\n",
    "    # Evaluate\n",
    "    rmse_naif = np.sqrt(metrics.mean_squared_error(y_fit, y_pred_dum[:,0]))\n",
    "    print (\"RMSE naive : %.2f\" % rmse_naif)\n",
    "    \n",
    "    return (rmse_mod,rmse_naif)\n",
    "    "
   ]
  },
  {
   "cell_type": "markdown",
   "metadata": {},
   "source": [
    "On définie une fonction qui analyse le meilleur paramètre d'un modèle de regression ridge via une validation croisée de 5 folds sur une grille."
   ]
  },
  {
   "cell_type": "code",
   "execution_count": 4,
   "metadata": {},
   "outputs": [],
   "source": [
    "def best_model(X_fit,y_fit,n,params_min=10,params_max=12,nb_params=5):\n",
    "    # ajouter des features polynomiales couplées \n",
    "    poly = PolynomialFeatures(n)\n",
    "    X_fit = poly.fit_transform(X_fit)\n",
    "    y_fit = y_fit   \n",
    "    \n",
    "    # on va standardiser les données de telle sorte à ce que \n",
    "    std_scale = preprocessing.StandardScaler().fit(X_fit)\n",
    "    X_fit = std_scale.transform(X_fit)    \n",
    "    \n",
    "    # On crée un modèle de régression linéaire\n",
    "    lr = linear_model.Ridge()\n",
    "    # grille (échelle logarithmique)\n",
    "    params = {'alpha': np.logspace(params_min,params_max,nb_params) }\n",
    "\n",
    "    model_ridge_cv = GridSearchCV(lr,params,cv=5)\n",
    "    model_ridge_cv.fit(X_fit,y_fit)\n",
    "    # prédire les valeurs de y_test\n",
    "    y_predict_lr = model_ridge_cv.predict(X_fit)\n",
    "    print (X_fit.shape)\n",
    "    print (params)\n",
    "    print ('-------voici le meilleur paramètre---------')\n",
    "    best_params = model_ridge_cv.best_params_\n",
    "    print (best_params)\n",
    "    # RSME  \n",
    "    rmse_mod = np.sqrt(metrics.mean_squared_error(y_fit, y_predict_lr[:,0]))\n",
    "    print (\"RMSE du modèle : %.2f\" % rmse_mod)\n",
    "    # comparer avec rmse du classifieur naif \n",
    "    # comparer à un classifieur naif \n",
    "    dum = dummy.DummyRegressor(strategy='mean')\n",
    "    # Entraînement\n",
    "    dum.fit(X_fit, y_fit)\n",
    "    # Prédiction sur le jeu de test\n",
    "    y_pred_dum = dum.predict(X_fit)\n",
    "    # Evaluate\n",
    "    rmse_naif = np.sqrt(metrics.mean_squared_error(y_fit[:,0], y_pred_dum[:,0]))\n",
    "    print (\"RMSE naive : %.2f\" % rmse_naif)\n",
    "    \n",
    "    return (rmse_mod,rmse_naif)\n"
   ]
  },
  {
   "cell_type": "markdown",
   "metadata": {},
   "source": [
    "On définie une fonction qui (une fois choisie le meilleur paramètre) va évaluer la performance réelle sur le jeux de donnée test "
   ]
  },
  {
   "cell_type": "code",
   "execution_count": 5,
   "metadata": {},
   "outputs": [],
   "source": [
    "def perform(X_train,X_test,y_train,y_test,alpha,n=4):\n",
    "    # ajouter des features polynomiales couplées \n",
    "    poly = PolynomialFeatures(n)\n",
    "    X_fit = poly.fit_transform(X_train)\n",
    "    y_fit = y_train\n",
    "    X_test_n = poly.fit_transform(X_test)\n",
    "    print (X_test_n.shape)\n",
    "    \n",
    "    # on va standardiser les données de telle sorte à ce que \n",
    "    std_scale = preprocessing.StandardScaler().fit(X_fit)\n",
    "    \n",
    "    X_fit = std_scale.transform(X_fit)\n",
    "    X_test_n= std_scale.transform(X_test_n)\n",
    "    \n",
    "    # On crée un modèle de régression linéaire\n",
    "    lr_model = linear_model.Ridge(alpha=alpha)\n",
    "    \n",
    "    # entrainer le modèle    \n",
    "    lr_model.fit(X_fit,y_fit)\n",
    "    # prédire les valeurs de X_test_n\n",
    "    y_predict_lr = lr_model.predict(X_test_n)\n",
    "    \n",
    "    # RSME   \n",
    "    rmse_mod = np.sqrt(metrics.mean_squared_error(y_test[:,0], y_predict_lr[:,0]))\n",
    "    print (\"RMSE du modèle : %.2f\" % rmse_mod)\n",
    "    # comparer avec rmse du classifieur naif \n",
    "    # comparer à un classifieur naif \n",
    "    dum = dummy.DummyRegressor(strategy='mean')\n",
    "    # Entraînement\n",
    "    dum.fit(X_fit, y_fit)\n",
    "    # Prédiction sur le jeu de test\n",
    "    y_pred_dum = dum.predict(X_test_n)\n",
    "    # Evaluate\n",
    "    rmse_naif = np.sqrt(metrics.mean_squared_error(y_test[:,0], y_pred_dum[:,0]))\n",
    "    print (\"RMSE naive : %.2f\" % rmse_naif)\n",
    "    \n",
    "    return (rmse_mod,rmse_naif,y_predict_lr)\n",
    "    "
   ]
  },
  {
   "cell_type": "code",
   "execution_count": 6,
   "metadata": {},
   "outputs": [
    {
     "name": "stdout",
     "output_type": "stream",
     "text": [
      "Index(['Unnamed: 0', 'Unnamed: 0.1', 'Unnamed: 0.1.1', 'CRS_DEP_TIME',\n",
      "       'DEP_DELAY_NEW', 'ARR_DELAY_NEW', 'CANCELLED', 'DIVERTED',\n",
      "       'ORIGIN_CITY_NAME', 'DEST_CITY_NAME', 'TAIL_NUM', 'CRS_ARR_TIME',\n",
      "       'DISTANCE', 'AIR_TIME', 'DAY', 'DAY_YEAR', 'MINUTES', 'MOY_WD_DAY',\n",
      "       'TR_WD_DAY', 'MOY_ORIG', 'TR_ORIG', 'MOY_DEST', 'TR_DEST', 'MOY_TAIL',\n",
      "       'TR_TAIL', 'LAT_DEP', 'LONG_DEP', 'LAT_ARR', 'LONG_ARR', 'HOURS_BEFORE',\n",
      "       'MINUTES_ARR', 'CASCADE', 'CASCADE_DEST'],\n",
      "      dtype='object')\n"
     ]
    }
   ],
   "source": [
    "print (data_fly.columns[:])"
   ]
  },
  {
   "cell_type": "code",
   "execution_count": 7,
   "metadata": {},
   "outputs": [],
   "source": [
    "# enlever la première colonne\n",
    "data_fly = data_fly.drop(columns = ['Unnamed: 0'])"
   ]
  },
  {
   "cell_type": "code",
   "execution_count": 8,
   "metadata": {},
   "outputs": [
    {
     "name": "stdout",
     "output_type": "stream",
     "text": [
      "(56641, 32)\n"
     ]
    }
   ],
   "source": [
    "# analyser la dimmension du dataset\n",
    "print (data_fly.shape)"
   ]
  },
  {
   "cell_type": "code",
   "execution_count": 9,
   "metadata": {},
   "outputs": [
    {
     "name": "stdout",
     "output_type": "stream",
     "text": [
      "(56641, 32)\n",
      "(55942, 32)\n"
     ]
    }
   ],
   "source": [
    "# supprimer les valeurs inconnues\n",
    "print (data_fly.shape)\n",
    "data_fly = data_fly.dropna(0, subset=['DEP_DELAY_NEW'])\n",
    "print (data_fly.shape)"
   ]
  },
  {
   "cell_type": "code",
   "execution_count": 10,
   "metadata": {},
   "outputs": [
    {
     "name": "stdout",
     "output_type": "stream",
     "text": [
      "(55942, 32)\n",
      "(55942, 32)\n"
     ]
    }
   ],
   "source": [
    "# supprimer les valeurs inconnues\n",
    "print (data_fly.shape)\n",
    "data_fly = data_fly.dropna(0, subset=['CASCADE'])\n",
    "print (data_fly.shape)"
   ]
  },
  {
   "cell_type": "code",
   "execution_count": 3,
   "metadata": {},
   "outputs": [
    {
     "name": "stdout",
     "output_type": "stream",
     "text": [
      "56641\n",
      "55577\n"
     ]
    }
   ],
   "source": [
    "# on choisit de ne garder que les retards de moins de 200mins \n",
    "print (data_fly.shape[0])\n",
    "data_fly = data_fly[data_fly['DEP_DELAY_NEW'] < 200]\n",
    "print (data_fly.shape[0])"
   ]
  },
  {
   "cell_type": "code",
   "execution_count": 12,
   "metadata": {},
   "outputs": [],
   "source": [
    "# mélanger les données : \n",
    "data_fly = shuffle(data_fly)"
   ]
  },
  {
   "cell_type": "code",
   "execution_count": 12,
   "metadata": {},
   "outputs": [],
   "source": [
    "# choisir les variables qui nous interessent pour l'étude des correlations\n",
    "data_fly_corr = data_fly[['DEP_DELAY_NEW', 'ARR_DELAY_NEW','DISTANCE', 'AIR_TIME', 'DAY', 'DAY_YEAR', 'MINUTES',\n",
    "       'MOY_WD_DAY', 'TR_WD_DAY', 'MOY_ORIG', 'TR_ORIG', 'MOY_DEST', 'TR_DEST',\n",
    "       'MOY_TAIL', 'TR_TAIL', 'HOURS_BEFORE', 'CASCADE','CASCADE_DEST']]"
   ]
  },
  {
   "cell_type": "code",
   "execution_count": 13,
   "metadata": {},
   "outputs": [
    {
     "data": {
      "image/png": "[encoded data removed]",
      "text/plain": [
       "<Figure size 1152x864 with 2 Axes>"
      ]
     },
     "metadata": {},
     "output_type": "display_data"
    },
    {
     "data": {
      "image/png": "[encoded data removed]",
      "text/plain": [
       "<Figure size 1152x864 with 2 Axes>"
      ]
     },
     "metadata": {},
     "output_type": "display_data"
    }
   ],
   "source": [
    "f, ax = plt.subplots(figsize=(16, 12))\n",
    "\n",
    "\n",
    "corr = data_fly_corr.corr(method='pearson')\n",
    "corr = np.around(corr,2)\n",
    "sns.heatmap(corr, annot=True ,mask=np.zeros_like((corr), dtype=np.bool), cmap=sns.diverging_palette(220, 10, as_cmap=True),\n",
    "            square=True, ax=ax)\n",
    "plt.title('fig-2: Heatmap des correlations linéaires entre les variables (via Pearson)',fontsize=13,loc='center', pad = 30)\n",
    "plt.tight_layout(h_pad=2)\n",
    "plt.savefig('pict_correlation1', dpi=400)\n",
    "plt.show()\n",
    "\n",
    "f, ax = plt.subplots(figsize=(16, 12))\n",
    "\n",
    "\n",
    "corr = data_fly_corr.corr(method='spearman')\n",
    "corr = np.around(corr,2)\n",
    "sns.heatmap(corr, annot=True ,mask=np.zeros_like((corr), dtype=np.bool), cmap=sns.diverging_palette(220, 10, as_cmap=True),\n",
    "            square=True, ax=ax)\n",
    "plt.title('fig-2: Heatmap des correlations non linéaires entre les variables (via spearman)',fontsize=13,loc='center', pad = 30)\n",
    "plt.tight_layout(h_pad=2)\n",
    "plt.savefig('pict_correlation2', dpi=400)\n",
    "plt.show()"
   ]
  },
  {
   "cell_type": "code",
   "execution_count": 15,
   "metadata": {},
   "outputs": [],
   "source": [
    "df = data_fly.copy()"
   ]
  },
  {
   "cell_type": "code",
   "execution_count": 16,
   "metadata": {},
   "outputs": [],
   "source": [
    "df = data_fly.copy()\n",
    "df = df.dropna(0, how='any')"
   ]
  },
  {
   "cell_type": "code",
   "execution_count": 17,
   "metadata": {},
   "outputs": [],
   "source": [
    "# créer une liste qui prend en compte les résultats de nos différents modèles\n",
    "liste_rmse = []\n",
    "# noms\n",
    "liste_name = []"
   ]
  },
  {
   "cell_type": "code",
   "execution_count": 18,
   "metadata": {},
   "outputs": [],
   "source": [
    "data_fly = df[['DEP_DELAY_NEW','MINUTES','DAY_YEAR','MOY_WD_DAY','MOY_ORIG','MOY_DEST','MOY_TAIL','CASCADE',\n",
    "              'CASCADE_DEST','ARR_DELAY_NEW']]"
   ]
  },
  {
   "cell_type": "code",
   "execution_count": 19,
   "metadata": {},
   "outputs": [
    {
     "name": "stdout",
     "output_type": "stream",
     "text": [
      "(55409, 10)\n",
      "(55409, 2)\n"
     ]
    }
   ],
   "source": [
    "# creation des tenseurs numpy \n",
    "# creation des vecteurs X et y \n",
    "# variables éventuelles \n",
    "X = np.matrix(data_fly.iloc[:,:])\n",
    "# scores éventuels \n",
    "y = np.transpose(np.matrix(data_fly.iloc[:,[0,9]]))\n",
    "\n",
    "#X = np.transpose(X)\n",
    "y = np.transpose(y)\n",
    "print (X.shape)\n",
    "print (y.shape)"
   ]
  },
  {
   "cell_type": "code",
   "execution_count": 20,
   "metadata": {},
   "outputs": [
    {
     "name": "stdout",
     "output_type": "stream",
     "text": [
      "(37124, 10) (18285, 10) (37124, 2) (18285, 2)\n"
     ]
    }
   ],
   "source": [
    "# créer un jeux de test et un jeux d'entrainement\n",
    "X_train, X_test, y_train, y_test = train_test_split(X, y, test_size=0.33, random_state=42)\n",
    "print (X_train.shape, X_test.shape, y_train.shape, y_test.shape)"
   ]
  },
  {
   "cell_type": "code",
   "execution_count": 21,
   "metadata": {},
   "outputs": [],
   "source": [
    "# séparer les deux scores\n",
    "y_train_arr = y_train[:,1]\n",
    "y_test_arr = y_test[:,1]\n",
    "\n",
    "y_train = y_train[:,0]\n",
    "y_test = y_test[:,0]"
   ]
  },
  {
   "cell_type": "markdown",
   "metadata": {},
   "source": [
    "# En prenant en compte les jours de la semaine"
   ]
  },
  {
   "cell_type": "code",
   "execution_count": 22,
   "metadata": {},
   "outputs": [
    {
     "name": "stdout",
     "output_type": "stream",
     "text": [
      "RMSE modèle : 24.35\n",
      "RMSE naive : 24.36\n"
     ]
    }
   ],
   "source": [
    "# régression linéaire \n",
    "rmse_mod, rmse_naive = analyse(X_fit=X_train[:,3],y_fit=y_train,n=1)[:]\n",
    "liste_rmse.append(rmse_mod)\n",
    "liste_name.append('week_day_linear')"
   ]
  },
  {
   "cell_type": "code",
   "execution_count": 23,
   "metadata": {},
   "outputs": [
    {
     "name": "stdout",
     "output_type": "stream",
     "text": [
      "RMSE modèle : 24.35\n",
      "RMSE naive : 24.36\n"
     ]
    }
   ],
   "source": [
    "# régression poly (n=2)\n",
    "rmse_mod, rmse_naive = analyse(X_fit=X_train[:,3],y_fit=y_train,n=2)[:]\n",
    "liste_rmse.append(rmse_mod)\n",
    "liste_name.append('week_day_poly2')"
   ]
  },
  {
   "cell_type": "code",
   "execution_count": 24,
   "metadata": {},
   "outputs": [
    {
     "name": "stdout",
     "output_type": "stream",
     "text": [
      "RMSE modèle : 24.35\n",
      "RMSE naive : 24.36\n"
     ]
    }
   ],
   "source": [
    "# régression poly (n=3)\n",
    "rmse_mod, rmse_naive = analyse(X_fit=X_train[:,3],y_fit=y_train,n=3)[:]\n",
    "liste_rmse.append(rmse_mod)\n",
    "liste_name.append('week_day_poly3')"
   ]
  },
  {
   "cell_type": "code",
   "execution_count": 25,
   "metadata": {},
   "outputs": [
    {
     "name": "stdout",
     "output_type": "stream",
     "text": [
      "RMSE modèle : 24.35\n",
      "RMSE naive : 24.36\n"
     ]
    }
   ],
   "source": [
    "# régression poly (n=4)\n",
    "rmse_mod, rmse_naive = analyse(X_fit=X_train[:,3],y_fit=y_train,n=4)[:]\n",
    "liste_rmse.append(rmse_mod)\n",
    "liste_name.append('week_day_poly4')"
   ]
  },
  {
   "cell_type": "markdown",
   "metadata": {},
   "source": [
    "tester un regression avec régularisation"
   ]
  },
  {
   "cell_type": "code",
   "execution_count": 26,
   "metadata": {},
   "outputs": [
    {
     "name": "stdout",
     "output_type": "stream",
     "text": [
      "(37124, 5)\n",
      "{'alpha': array([1.00000000e-06, 3.16227766e-06, 1.00000000e-05, 3.16227766e-05,\n",
      "       1.00000000e-04])}\n",
      "-------voici le meilleur paramètre---------\n",
      "{'alpha': 3.162277660168379e-06}\n",
      "RMSE du modèle : 24.35\n",
      "RMSE naive : 24.36\n"
     ]
    }
   ],
   "source": [
    "rmse_mod, rmse_naive = best_model(X_fit=X_train[:,3],y_fit=y_train,n=4,params_min=-6,params_max=-4,nb_params=5)\n",
    "liste_rmse.append(rmse_mod)\n",
    "liste_name.append('week_day_poly4reg')"
   ]
  },
  {
   "cell_type": "markdown",
   "metadata": {},
   "source": [
    "# En prenant en compte les jours de l'année uniquement\n"
   ]
  },
  {
   "cell_type": "code",
   "execution_count": 27,
   "metadata": {},
   "outputs": [
    {
     "name": "stdout",
     "output_type": "stream",
     "text": [
      "RMSE modèle : 24.35\n",
      "RMSE naive : 24.36\n"
     ]
    }
   ],
   "source": [
    "# régression linéaire \n",
    "rmse_mod, rmse_naive = analyse(X_fit=X_train[:,2],y_fit=y_train,n=1)[:]\n",
    "liste_rmse.append(rmse_mod)\n",
    "liste_name.append('year_day_linear')"
   ]
  },
  {
   "cell_type": "code",
   "execution_count": 28,
   "metadata": {},
   "outputs": [
    {
     "name": "stdout",
     "output_type": "stream",
     "text": [
      "RMSE modèle : 24.33\n",
      "RMSE naive : 24.36\n"
     ]
    }
   ],
   "source": [
    "# régression poly (n=2)\n",
    "rmse_mod, rmse_naive = analyse(X_fit=X_train[:,2],y_fit=y_train,n=2)[:]\n",
    "liste_rmse.append(rmse_mod)\n",
    "liste_name.append('year_day_poly2')"
   ]
  },
  {
   "cell_type": "code",
   "execution_count": 29,
   "metadata": {},
   "outputs": [
    {
     "name": "stdout",
     "output_type": "stream",
     "text": [
      "RMSE modèle : 24.33\n",
      "RMSE naive : 24.36\n"
     ]
    }
   ],
   "source": [
    "# régression poly (n=3)\n",
    "rmse_mod, rmse_naive = analyse(X_fit=X_train[:,2],y_fit=y_train,n=3)[:]\n",
    "liste_rmse.append(rmse_mod)\n",
    "liste_name.append('year_day_poly3')"
   ]
  },
  {
   "cell_type": "code",
   "execution_count": 30,
   "metadata": {},
   "outputs": [
    {
     "name": "stdout",
     "output_type": "stream",
     "text": [
      "RMSE modèle : 24.33\n",
      "RMSE naive : 24.36\n"
     ]
    }
   ],
   "source": [
    "# régression poly (n=4)\n",
    "rmse_mod, rmse_naive = analyse(X_fit=X_train[:,2],y_fit=y_train,n=4)[:]\n",
    "liste_rmse.append(rmse_mod)\n",
    "liste_name.append('year_day_poly4')"
   ]
  },
  {
   "cell_type": "code",
   "execution_count": 31,
   "metadata": {},
   "outputs": [
    {
     "name": "stdout",
     "output_type": "stream",
     "text": [
      "(37124, 5)\n",
      "{'alpha': array([1.e-04, 1.e-02, 1.e+00, 1.e+02, 1.e+04])}\n",
      "-------voici le meilleur paramètre---------\n",
      "{'alpha': 0.01}\n",
      "RMSE du modèle : 24.32\n",
      "RMSE naive : 24.36\n"
     ]
    }
   ],
   "source": [
    "rmse_mod, rmse_naive = best_model(X_fit=X_train[:,2],y_fit=y_train,n=4,params_min=-4,params_max=4,nb_params=5)\n",
    "liste_rmse.append(rmse_mod)\n",
    "liste_name.append('year_day_poly4reg')"
   ]
  },
  {
   "cell_type": "markdown",
   "metadata": {},
   "source": [
    "# Considérer les jours de l'année + les jours de la semaine"
   ]
  },
  {
   "cell_type": "code",
   "execution_count": 32,
   "metadata": {},
   "outputs": [
    {
     "name": "stdout",
     "output_type": "stream",
     "text": [
      "RMSE modèle : 24.34\n",
      "RMSE naive : 24.36\n"
     ]
    }
   ],
   "source": [
    "# régression linéaire \n",
    "rmse_mod, rmse_naive = analyse(X_fit=X_train[:,2:4],y_fit=y_train,n=1)[:]\n",
    "liste_rmse.append(rmse_mod)\n",
    "liste_name.append('tot_day_linear')"
   ]
  },
  {
   "cell_type": "code",
   "execution_count": 33,
   "metadata": {},
   "outputs": [
    {
     "name": "stdout",
     "output_type": "stream",
     "text": [
      "RMSE modèle : 24.32\n",
      "RMSE naive : 24.36\n"
     ]
    }
   ],
   "source": [
    "# régression poly (n=2) \n",
    "rmse_mod, rmse_naive = analyse(X_fit=X_train[:,2:4],y_fit=y_train,n=2)[:]\n",
    "liste_rmse.append(rmse_mod)\n",
    "liste_name.append('tot_day_poly2')"
   ]
  },
  {
   "cell_type": "code",
   "execution_count": 34,
   "metadata": {},
   "outputs": [
    {
     "name": "stdout",
     "output_type": "stream",
     "text": [
      "RMSE modèle : 24.32\n",
      "RMSE naive : 24.36\n"
     ]
    }
   ],
   "source": [
    "# régression poly (n=3) \n",
    "rmse_mod, rmse_naive = analyse(X_fit=X_train[:,2:4],y_fit=y_train,n=3)[:]\n",
    "liste_rmse.append(rmse_mod)\n",
    "liste_name.append('tot_day_poly3')"
   ]
  },
  {
   "cell_type": "code",
   "execution_count": 35,
   "metadata": {},
   "outputs": [
    {
     "name": "stdout",
     "output_type": "stream",
     "text": [
      "RMSE modèle : 24.31\n",
      "RMSE naive : 24.36\n"
     ]
    }
   ],
   "source": [
    "# régression poly (n=4) \n",
    "rmse_mod, rmse_naive = analyse(X_fit=X_train[:,2:4],y_fit=y_train,n=4)[:]\n",
    "liste_rmse.append(rmse_mod)\n",
    "liste_name.append('tot_day_poly4')"
   ]
  },
  {
   "cell_type": "code",
   "execution_count": 36,
   "metadata": {},
   "outputs": [
    {
     "name": "stdout",
     "output_type": "stream",
     "text": [
      "(37124, 15)\n",
      "{'alpha': array([1.00000000e-08, 5.62341325e-08, 3.16227766e-07, 1.77827941e-06,\n",
      "       1.00000000e-05])}\n",
      "-------voici le meilleur paramètre---------\n",
      "{'alpha': 1e-05}\n",
      "RMSE du modèle : 24.30\n",
      "RMSE naive : 24.36\n"
     ]
    }
   ],
   "source": [
    "rmse_mod, rmse_naive = best_model(X_fit=X_train[:,2:4],y_fit=y_train,n=4,params_min=-8,params_max=-5,nb_params=5)\n",
    "liste_rmse.append(rmse_mod)\n",
    "liste_name.append('tot_day_poly4reg')"
   ]
  },
  {
   "cell_type": "markdown",
   "metadata": {},
   "source": [
    "# considérer l'heure seule\n"
   ]
  },
  {
   "cell_type": "code",
   "execution_count": 37,
   "metadata": {},
   "outputs": [
    {
     "name": "stdout",
     "output_type": "stream",
     "text": [
      "RMSE modèle : 24.08\n",
      "RMSE naive : 24.36\n"
     ]
    }
   ],
   "source": [
    "# régression linéaire \n",
    "rmse_mod, rmse_naive = analyse(X_fit=X_train[:,1],y_fit=y_train,n=1)[:]\n",
    "liste_rmse.append(rmse_mod)\n",
    "liste_name.append('hour_linear')"
   ]
  },
  {
   "cell_type": "code",
   "execution_count": 38,
   "metadata": {},
   "outputs": [
    {
     "name": "stdout",
     "output_type": "stream",
     "text": [
      "RMSE modèle : 24.08\n",
      "RMSE naive : 24.36\n"
     ]
    }
   ],
   "source": [
    "# régression poly (n=2)\n",
    "rmse_mod, rmse_naive = analyse(X_fit=X_train[:,1],y_fit=y_train,n=2)[:]\n",
    "liste_rmse.append(rmse_mod)\n",
    "liste_name.append('hour_poly2')"
   ]
  },
  {
   "cell_type": "code",
   "execution_count": 39,
   "metadata": {},
   "outputs": [
    {
     "name": "stdout",
     "output_type": "stream",
     "text": [
      "RMSE modèle : 24.06\n",
      "RMSE naive : 24.36\n"
     ]
    }
   ],
   "source": [
    "# régression poly (n=3)\n",
    "rmse_mod, rmse_naive = analyse(X_fit=X_train[:,1],y_fit=y_train,n=3)[:]\n",
    "liste_rmse.append(rmse_mod)\n",
    "liste_name.append('hour_poly3')"
   ]
  },
  {
   "cell_type": "code",
   "execution_count": 40,
   "metadata": {},
   "outputs": [
    {
     "name": "stdout",
     "output_type": "stream",
     "text": [
      "RMSE modèle : 24.06\n",
      "RMSE naive : 24.36\n"
     ]
    }
   ],
   "source": [
    "# régression poly (n=4)\n",
    "rmse_mod, rmse_naive = analyse(X_fit=X_train[:,1],y_fit=y_train,n=4)[:]\n",
    "liste_rmse.append(rmse_mod)\n",
    "liste_name.append('hour_poly4')"
   ]
  },
  {
   "cell_type": "code",
   "execution_count": 41,
   "metadata": {},
   "outputs": [
    {
     "name": "stdout",
     "output_type": "stream",
     "text": [
      "(37124, 5)\n",
      "{'alpha': array([1.e-05, 1.e-03, 1.e-01, 1.e+01, 1.e+03])}\n",
      "-------voici le meilleur paramètre---------\n",
      "{'alpha': 10.0}\n",
      "RMSE du modèle : 24.06\n",
      "RMSE naive : 24.36\n"
     ]
    }
   ],
   "source": [
    "rmse_mod, rmse_naive = best_model(X_fit=X_train[:,1],y_fit=y_train,n=4,params_min=-5,params_max=3,nb_params=5)\n",
    "liste_rmse.append(rmse_mod)\n",
    "liste_name.append('hour_poly4reg')"
   ]
  },
  {
   "cell_type": "markdown",
   "metadata": {},
   "source": [
    "# heure et jours de l'année\n"
   ]
  },
  {
   "cell_type": "code",
   "execution_count": 42,
   "metadata": {},
   "outputs": [
    {
     "name": "stdout",
     "output_type": "stream",
     "text": [
      "RMSE modèle : 24.08\n",
      "RMSE naive : 24.36\n"
     ]
    }
   ],
   "source": [
    "# régression linéaire \n",
    "rmse_mod, rmse_naive = analyse(X_fit=X_train[:,1:3],y_fit=y_train,n=1)[:]\n",
    "liste_rmse.append(rmse_mod)\n",
    "liste_name.append('hour_day_year_linear')"
   ]
  },
  {
   "cell_type": "code",
   "execution_count": 43,
   "metadata": {},
   "outputs": [
    {
     "name": "stdout",
     "output_type": "stream",
     "text": [
      "RMSE modèle : 24.05\n",
      "RMSE naive : 24.36\n"
     ]
    }
   ],
   "source": [
    "# régression poly(n=2) \n",
    "rmse_mod, rmse_naive = analyse(X_fit=X_train[:,1:3],y_fit=y_train,n=2)[:]\n",
    "liste_rmse.append(rmse_mod)\n",
    "liste_name.append('hour_day_year_poly2')"
   ]
  },
  {
   "cell_type": "code",
   "execution_count": 44,
   "metadata": {},
   "outputs": [
    {
     "name": "stdout",
     "output_type": "stream",
     "text": [
      "RMSE modèle : 24.02\n",
      "RMSE naive : 24.36\n"
     ]
    }
   ],
   "source": [
    "# régression poly(n=3) \n",
    "rmse_mod, rmse_naive = analyse(X_fit=X_train[:,1:3],y_fit=y_train,n=3)[:]\n",
    "liste_rmse.append(rmse_mod)\n",
    "liste_name.append('hour_day_year_poly3')"
   ]
  },
  {
   "cell_type": "code",
   "execution_count": 45,
   "metadata": {},
   "outputs": [
    {
     "name": "stdout",
     "output_type": "stream",
     "text": [
      "RMSE modèle : 24.02\n",
      "RMSE naive : 24.36\n"
     ]
    }
   ],
   "source": [
    "# régression poly(n=4) \n",
    "rmse_mod, rmse_naive = analyse(X_fit=X_train[:,1:3],y_fit=y_train,n=4)[:]\n",
    "liste_rmse.append(rmse_mod)\n",
    "liste_name.append('hour_day_year_poly4')"
   ]
  },
  {
   "cell_type": "code",
   "execution_count": 46,
   "metadata": {},
   "outputs": [
    {
     "name": "stdout",
     "output_type": "stream",
     "text": [
      "(37124, 15)\n",
      "{'alpha': array([1.00000000e-05, 3.16227766e-04, 1.00000000e-02, 3.16227766e-01,\n",
      "       1.00000000e+01])}\n",
      "-------voici le meilleur paramètre---------\n",
      "{'alpha': 0.31622776601683794}\n",
      "RMSE du modèle : 24.00\n",
      "RMSE naive : 24.36\n"
     ]
    }
   ],
   "source": [
    "rmse_mod, rmse_naive = best_model(X_fit=X_train[:,1:3],y_fit=y_train,n=4,params_min=-5,params_max=1,nb_params=5)\n",
    "liste_rmse.append(rmse_mod)\n",
    "liste_name.append('hour_day_year_poly4reg')"
   ]
  },
  {
   "cell_type": "markdown",
   "metadata": {},
   "source": [
    "# heure jours de l'année et jours de la semaine\n"
   ]
  },
  {
   "cell_type": "code",
   "execution_count": 47,
   "metadata": {},
   "outputs": [
    {
     "name": "stdout",
     "output_type": "stream",
     "text": [
      "RMSE modèle : 24.07\n",
      "RMSE naive : 24.36\n"
     ]
    }
   ],
   "source": [
    "# régression linéaire \n",
    "rmse_mod, rmse_naive = analyse(X_fit=X_train[:,1:4],y_fit=y_train,n=1)[:]\n",
    "liste_rmse.append(rmse_mod)\n",
    "liste_name.append('hour_day_tot_linear')"
   ]
  },
  {
   "cell_type": "code",
   "execution_count": 48,
   "metadata": {},
   "outputs": [
    {
     "name": "stdout",
     "output_type": "stream",
     "text": [
      "RMSE modèle : 24.02\n",
      "RMSE naive : 24.36\n"
     ]
    }
   ],
   "source": [
    "# régression poly (n=2)\n",
    "rmse_mod, rmse_naive = analyse(X_fit=X_train[:,1:4],y_fit=y_train,n=2)[:]\n",
    "liste_rmse.append(rmse_mod)\n",
    "liste_name.append('hour_day_tot_poly2')"
   ]
  },
  {
   "cell_type": "code",
   "execution_count": 49,
   "metadata": {},
   "outputs": [
    {
     "name": "stdout",
     "output_type": "stream",
     "text": [
      "RMSE modèle : 24.00\n",
      "RMSE naive : 24.36\n"
     ]
    }
   ],
   "source": [
    "# régression poly (n=3)\n",
    "rmse_mod, rmse_naive = analyse(X_fit=X_train[:,1:4],y_fit=y_train,n=3)[:]\n",
    "liste_rmse.append(rmse_mod)\n",
    "liste_name.append('hour_day_tot_poly3')"
   ]
  },
  {
   "cell_type": "code",
   "execution_count": 50,
   "metadata": {},
   "outputs": [
    {
     "name": "stdout",
     "output_type": "stream",
     "text": [
      "RMSE modèle : 23.99\n",
      "RMSE naive : 24.36\n"
     ]
    }
   ],
   "source": [
    "# régression poly (n=4)\n",
    "rmse_mod, rmse_naive = analyse(X_fit=X_train[:,1:4],y_fit=y_train,n=4)[:]\n",
    "liste_rmse.append(rmse_mod)\n",
    "liste_name.append('hour_day_tot_poly4')"
   ]
  },
  {
   "cell_type": "code",
   "execution_count": 51,
   "metadata": {},
   "outputs": [
    {
     "name": "stdout",
     "output_type": "stream",
     "text": [
      "(37124, 35)\n",
      "{'alpha': array([1.e-08, 1.e-07, 1.e-06, 1.e-05, 1.e-04])}\n",
      "-------voici le meilleur paramètre---------\n",
      "{'alpha': 1e-05}\n",
      "RMSE du modèle : 23.97\n",
      "RMSE naive : 24.36\n"
     ]
    }
   ],
   "source": [
    "rmse_mod, rmse_naive = best_model(X_fit=X_train[:,1:4],y_fit=y_train,n=4,params_min=-8,params_max=-4,nb_params=5)\n",
    "liste_rmse.append(rmse_mod)\n",
    "liste_name.append('hour_day_tot_poly4reg')"
   ]
  },
  {
   "cell_type": "markdown",
   "metadata": {},
   "source": [
    "# Heure / jours de l'année / jours de la semaine / orig"
   ]
  },
  {
   "cell_type": "code",
   "execution_count": 52,
   "metadata": {},
   "outputs": [
    {
     "name": "stdout",
     "output_type": "stream",
     "text": [
      "RMSE modèle : 24.01\n",
      "RMSE naive : 24.36\n"
     ]
    }
   ],
   "source": [
    "# régression linéaire \n",
    "rmse_mod, rmse_naive = analyse(X_fit=X_train[:,1:5],y_fit=y_train,n=1)[:]\n",
    "liste_rmse.append(rmse_mod)\n",
    "liste_name.append('hour_day_tot_origin_linear')"
   ]
  },
  {
   "cell_type": "code",
   "execution_count": 53,
   "metadata": {},
   "outputs": [
    {
     "name": "stdout",
     "output_type": "stream",
     "text": [
      "RMSE modèle : 23.94\n",
      "RMSE naive : 24.36\n"
     ]
    }
   ],
   "source": [
    "# régression poly (n=2)\n",
    "rmse_mod, rmse_naive = analyse(X_fit=X_train[:,1:5],y_fit=y_train,n=2)[:]\n",
    "liste_rmse.append(rmse_mod)\n",
    "liste_name.append('hour_day_tot_origin_poly2')"
   ]
  },
  {
   "cell_type": "code",
   "execution_count": 54,
   "metadata": {},
   "outputs": [
    {
     "name": "stdout",
     "output_type": "stream",
     "text": [
      "RMSE modèle : 24.03\n",
      "RMSE naive : 24.36\n"
     ]
    }
   ],
   "source": [
    "# régression poly (n=3)\n",
    "rmse_mod, rmse_naive = analyse(X_fit=X_train[:,1:5],y_fit=y_train,n=3)[:]\n",
    "liste_rmse.append(rmse_mod)\n",
    "liste_name.append('hour_day_tot_origin_poly3')"
   ]
  },
  {
   "cell_type": "code",
   "execution_count": 55,
   "metadata": {},
   "outputs": [
    {
     "name": "stdout",
     "output_type": "stream",
     "text": [
      "RMSE modèle : 25.05\n",
      "RMSE naive : 24.36\n"
     ]
    }
   ],
   "source": [
    "# régression poly (n=4)\n",
    "rmse_mod, rmse_naive = analyse(X_fit=X_train[:,1:5],y_fit=y_train,n=4)[:]\n",
    "liste_rmse.append(rmse_mod)\n",
    "liste_name.append('hour_day_tot_origin_poly4')"
   ]
  },
  {
   "cell_type": "code",
   "execution_count": 56,
   "metadata": {},
   "outputs": [
    {
     "name": "stdout",
     "output_type": "stream",
     "text": [
      "(37124, 70)\n",
      "{'alpha': array([1.00000000e-08, 5.62341325e-08, 3.16227766e-07, 1.77827941e-06,\n",
      "       1.00000000e-05])}\n",
      "-------voici le meilleur paramètre---------\n",
      "{'alpha': 1e-08}\n",
      "RMSE du modèle : 23.86\n",
      "RMSE naive : 24.36\n"
     ]
    }
   ],
   "source": [
    "rmse_mod, rmse_naive = best_model(X_fit=X_train[:,1:5],y_fit=y_train,n=4,params_min=-8,params_max=-5,nb_params=5)\n",
    "liste_rmse.append(rmse_mod)\n",
    "liste_name.append('hour_day_tot_origin_poly4reg')"
   ]
  },
  {
   "cell_type": "markdown",
   "metadata": {},
   "source": [
    "# heure / jours de l'année / jours de la semaine / orig / arriv\n"
   ]
  },
  {
   "cell_type": "code",
   "execution_count": 57,
   "metadata": {},
   "outputs": [
    {
     "name": "stdout",
     "output_type": "stream",
     "text": [
      "RMSE modèle : 23.96\n",
      "RMSE naive : 24.36\n"
     ]
    }
   ],
   "source": [
    "# régression linéaire \n",
    "rmse_mod, rmse_naive = analyse(X_fit=X_train[:,1:6],y_fit=y_train,n=1)[:]\n",
    "liste_rmse.append(rmse_mod)\n",
    "liste_name.append('hour_day_tot_path_linear')"
   ]
  },
  {
   "cell_type": "code",
   "execution_count": 58,
   "metadata": {},
   "outputs": [
    {
     "name": "stdout",
     "output_type": "stream",
     "text": [
      "RMSE modèle : 23.90\n",
      "RMSE naive : 24.36\n"
     ]
    }
   ],
   "source": [
    "# régression linéaire (poly n=2)\n",
    "rmse_mod, rmse_naive = analyse(X_fit=X_train[:,1:6],y_fit=y_train,n=2)[:]\n",
    "liste_rmse.append(rmse_mod)\n",
    "liste_name.append('hour_day_tot_path_poly2')"
   ]
  },
  {
   "cell_type": "code",
   "execution_count": 59,
   "metadata": {},
   "outputs": [
    {
     "name": "stdout",
     "output_type": "stream",
     "text": [
      "RMSE modèle : 23.96\n",
      "RMSE naive : 24.36\n"
     ]
    }
   ],
   "source": [
    "# régression linéaire (poly n=3)\n",
    "rmse_mod, rmse_naive = analyse(X_fit=X_train[:,1:6],y_fit=y_train,n=3)[:]\n",
    "liste_rmse.append(rmse_mod)\n",
    "liste_name.append('hour_day_tot_path_poly3')"
   ]
  },
  {
   "cell_type": "code",
   "execution_count": 60,
   "metadata": {},
   "outputs": [
    {
     "name": "stdout",
     "output_type": "stream",
     "text": [
      "RMSE modèle : 28.13\n",
      "RMSE naive : 24.36\n"
     ]
    }
   ],
   "source": [
    "# régression linéaire (poly n=4)\n",
    "rmse_mod, rmse_naive = analyse(X_fit=X_train[:,1:6],y_fit=y_train,n=4)[:]\n",
    "liste_rmse.append(rmse_mod)\n",
    "liste_name.append('hour_day_tot_path_poly4')"
   ]
  },
  {
   "cell_type": "code",
   "execution_count": 61,
   "metadata": {},
   "outputs": [
    {
     "name": "stdout",
     "output_type": "stream",
     "text": [
      "(37124, 126)\n",
      "{'alpha': array([1.e-02, 1.e-01, 1.e+00, 1.e+01, 1.e+02])}\n",
      "-------voici le meilleur paramètre---------\n",
      "{'alpha': 100.0}\n",
      "RMSE du modèle : 23.83\n",
      "RMSE naive : 24.36\n"
     ]
    }
   ],
   "source": [
    "rmse_mod, rmse_naive = best_model(X_fit=X_train[:,1:6],y_fit=y_train,n=4,params_min=-2,params_max=2,nb_params=5)\n",
    "liste_rmse.append(rmse_mod)\n",
    "liste_name.append('hour_day_tot_path__poly4reg')"
   ]
  },
  {
   "cell_type": "markdown",
   "metadata": {},
   "source": [
    "# heure / jours de l'année / jours de la semaine / orig / arriv / appareil\n"
   ]
  },
  {
   "cell_type": "code",
   "execution_count": 62,
   "metadata": {},
   "outputs": [
    {
     "name": "stdout",
     "output_type": "stream",
     "text": [
      "RMSE modèle : 23.92\n",
      "RMSE naive : 24.36\n"
     ]
    }
   ],
   "source": [
    "# régression linéaire \n",
    "rmse_mod, rmse_naive = analyse(X_fit=X_train[:,1:7],y_fit=y_train,n=1)[:]\n",
    "liste_rmse.append(rmse_mod)\n",
    "liste_name.append('hour_day_tot_path_aircraft_linear')"
   ]
  },
  {
   "cell_type": "code",
   "execution_count": 63,
   "metadata": {},
   "outputs": [
    {
     "name": "stdout",
     "output_type": "stream",
     "text": [
      "RMSE modèle : 23.85\n",
      "RMSE naive : 24.36\n"
     ]
    }
   ],
   "source": [
    "# régression poly (n=2)\n",
    "rmse_mod, rmse_naive = analyse(X_fit=X_train[:,1:7],y_fit=y_train,n=2)[:]\n",
    "liste_rmse.append(rmse_mod)\n",
    "liste_name.append('hour_day_tot_path_aircraft_poly2')"
   ]
  },
  {
   "cell_type": "code",
   "execution_count": 64,
   "metadata": {},
   "outputs": [
    {
     "name": "stdout",
     "output_type": "stream",
     "text": [
      "RMSE modèle : 23.92\n",
      "RMSE naive : 24.36\n"
     ]
    }
   ],
   "source": [
    "# régression poly (n=3)\n",
    "rmse_mod, rmse_naive = analyse(X_fit=X_train[:,1:7],y_fit=y_train,n=3)[:]\n",
    "liste_rmse.append(rmse_mod)\n",
    "liste_name.append('hour_day_tot_path_aircraft_poly3')"
   ]
  },
  {
   "cell_type": "code",
   "execution_count": 65,
   "metadata": {},
   "outputs": [
    {
     "name": "stdout",
     "output_type": "stream",
     "text": [
      "RMSE modèle : 26.01\n",
      "RMSE naive : 24.36\n"
     ]
    }
   ],
   "source": [
    "# régression poly (n=4)\n",
    "rmse_mod, rmse_naive = analyse(X_fit=X_train[:,1:7],y_fit=y_train,n=4)[:]\n",
    "liste_rmse.append(rmse_mod)\n",
    "liste_name.append('hour_day_tot_path_aircraft_poly4')"
   ]
  },
  {
   "cell_type": "code",
   "execution_count": 66,
   "metadata": {},
   "outputs": [
    {
     "name": "stdout",
     "output_type": "stream",
     "text": [
      "(37124, 210)\n",
      "{'alpha': array([1.00000000e-01, 1.77827941e+00, 3.16227766e+01, 5.62341325e+02,\n",
      "       1.00000000e+04])}\n",
      "-------voici le meilleur paramètre---------\n",
      "{'alpha': 562.341325190349}\n",
      "RMSE du modèle : 23.78\n",
      "RMSE naive : 24.36\n"
     ]
    }
   ],
   "source": [
    "rmse_mod, rmse_naive = best_model(X_fit=X_train[:,1:7],y_fit=y_train,n=4,params_min=-1,params_max=4,nb_params=5)\n",
    "liste_rmse.append(rmse_mod)\n",
    "liste_name.append('hour_day_tot_path_aircraft_poly4reg')"
   ]
  },
  {
   "cell_type": "markdown",
   "metadata": {},
   "source": [
    "# 2) cas où tente de prédir le retard au départ légérement avant "
   ]
  },
  {
   "cell_type": "code",
   "execution_count": 67,
   "metadata": {},
   "outputs": [
    {
     "name": "stdout",
     "output_type": "stream",
     "text": [
      "RMSE modèle : 21.10\n",
      "RMSE naive : 24.36\n"
     ]
    }
   ],
   "source": [
    "# régression linéaire \n",
    "rmse_mod, rmse_naive = analyse(X_fit=X_train[:,1:8],y_fit=y_train,n=1)[:]\n",
    "liste_rmse.append(rmse_mod)\n",
    "liste_name.append('before_linear')"
   ]
  },
  {
   "cell_type": "code",
   "execution_count": 68,
   "metadata": {},
   "outputs": [
    {
     "name": "stdout",
     "output_type": "stream",
     "text": [
      "RMSE modèle : 20.65\n",
      "RMSE naive : 24.36\n"
     ]
    }
   ],
   "source": [
    "# régression poly (n=2) \n",
    "rmse_mod, rmse_naive = analyse(X_fit=X_train[:,1:8],y_fit=y_train,n=2)[:]\n",
    "liste_rmse.append(rmse_mod)\n",
    "liste_name.append('before_poly2')"
   ]
  },
  {
   "cell_type": "code",
   "execution_count": 69,
   "metadata": {},
   "outputs": [
    {
     "name": "stdout",
     "output_type": "stream",
     "text": [
      "RMSE modèle : 20.84\n",
      "RMSE naive : 24.36\n"
     ]
    }
   ],
   "source": [
    "# régression poly (n=3) \n",
    "rmse_mod, rmse_naive = analyse(X_fit=X_train[:,1:8],y_fit=y_train,n=3)[:]\n",
    "liste_rmse.append(rmse_mod)\n",
    "liste_name.append('before_poly3')"
   ]
  },
  {
   "cell_type": "code",
   "execution_count": 70,
   "metadata": {},
   "outputs": [
    {
     "name": "stdout",
     "output_type": "stream",
     "text": [
      "RMSE modèle : 32.44\n",
      "RMSE naive : 24.36\n"
     ]
    }
   ],
   "source": [
    "# régression poly (n=4) \n",
    "rmse_mod, rmse_naive = analyse(X_fit=X_train[:,1:8],y_fit=y_train,n=4)[:]\n",
    "liste_rmse.append(rmse_mod)\n",
    "liste_name.append('before_poly4')"
   ]
  },
  {
   "cell_type": "code",
   "execution_count": 71,
   "metadata": {},
   "outputs": [
    {
     "name": "stdout",
     "output_type": "stream",
     "text": [
      "(37124, 330)\n",
      "{'alpha': array([   10.        ,    56.23413252,   316.22776602,  1778.27941004,\n",
      "       10000.        ])}\n",
      "-------voici le meilleur paramètre---------\n",
      "{'alpha': 1778.2794100389228}\n",
      "RMSE du modèle : 20.50\n",
      "RMSE naive : 24.36\n"
     ]
    }
   ],
   "source": [
    "rmse_mod, rmse_naive = best_model(X_fit=X_train[:,1:8],y_fit=y_train,n=4,params_min=1,params_max=4,nb_params=5)\n",
    "liste_rmse.append(rmse_mod)\n",
    "liste_name.append('before_poly4reg')"
   ]
  },
  {
   "cell_type": "markdown",
   "metadata": {},
   "source": [
    "#  3 ) Retard anticipé à l'arrivé lorsque l'on connait l'heure de départ"
   ]
  },
  {
   "cell_type": "code",
   "execution_count": 72,
   "metadata": {},
   "outputs": [
    {
     "name": "stdout",
     "output_type": "stream",
     "text": [
      "RMSE modèle : 21.39\n",
      "RMSE naive : 24.43\n"
     ]
    }
   ],
   "source": [
    "# régression linéaire \n",
    "rmse_mod, rmse_naive = analyse(X_fit=X_train[:,1:8],y_fit=y_train_arr,n=1)[:]\n",
    "liste_rmse.append(rmse_mod)\n",
    "liste_name.append('arrival_linear_naiv')"
   ]
  },
  {
   "cell_type": "code",
   "execution_count": 73,
   "metadata": {},
   "outputs": [
    {
     "name": "stdout",
     "output_type": "stream",
     "text": [
      "RMSE modèle : 18.69\n",
      "RMSE naive : 24.43\n"
     ]
    }
   ],
   "source": [
    "# régression linéaire \n",
    "rmse_mod, rmse_naive = analyse(X_fit=X_train[:,1:9],y_fit=y_train_arr,n=1)[:]\n",
    "liste_rmse.append(rmse_mod)\n",
    "liste_name.append('arrival_linear_airport')"
   ]
  },
  {
   "cell_type": "code",
   "execution_count": 74,
   "metadata": {},
   "outputs": [
    {
     "name": "stdout",
     "output_type": "stream",
     "text": [
      "RMSE modèle : 8.85\n",
      "RMSE naive : 24.43\n"
     ]
    }
   ],
   "source": [
    "# régression linéaire \n",
    "rmse_mod, rmse_naive = analyse(X_fit=X_train[:,0],y_fit=y_train_arr,n=1)[:]\n",
    "liste_rmse.append(rmse_mod)\n",
    "liste_name.append('arrival_depknow_linear')"
   ]
  },
  {
   "cell_type": "code",
   "execution_count": 75,
   "metadata": {},
   "outputs": [
    {
     "name": "stdout",
     "output_type": "stream",
     "text": [
      "RMSE modèle : 8.57\n",
      "RMSE naive : 24.43\n"
     ]
    }
   ],
   "source": [
    "# régression linéaire \n",
    "rmse_mod, rmse_naive = analyse(X_fit=X_train[:,[0,1,2,3,4,5,6,8]],y_fit=y_train_arr,n=1)[:]\n",
    "liste_rmse.append(rmse_mod)\n",
    "liste_name.append('arrival_all_linear')"
   ]
  },
  {
   "cell_type": "code",
   "execution_count": 76,
   "metadata": {},
   "outputs": [
    {
     "name": "stdout",
     "output_type": "stream",
     "text": [
      "RMSE modèle : 8.41\n",
      "RMSE naive : 24.43\n"
     ]
    }
   ],
   "source": [
    "# régression poly(n=2)\n",
    "rmse_mod, rmse_naive = analyse(X_fit=X_train[:,[0,1,2,3,4,5,6,8]],y_fit=y_train_arr,n=2)[:]\n",
    "liste_rmse.append(rmse_mod)\n",
    "liste_name.append('arrival_all_poly2')"
   ]
  },
  {
   "cell_type": "code",
   "execution_count": 77,
   "metadata": {},
   "outputs": [
    {
     "name": "stdout",
     "output_type": "stream",
     "text": [
      "RMSE modèle : 8.39\n",
      "RMSE naive : 24.43\n"
     ]
    }
   ],
   "source": [
    "# régression poly(n=3)\n",
    "rmse_mod, rmse_naive = analyse(X_fit=X_train[:,[0,1,2,3,4,5,6,8]],y_fit=y_train_arr,n=3)[:]\n",
    "liste_rmse.append(rmse_mod)\n",
    "liste_name.append('arrival_all_poly3')"
   ]
  },
  {
   "cell_type": "code",
   "execution_count": 78,
   "metadata": {},
   "outputs": [
    {
     "name": "stdout",
     "output_type": "stream",
     "text": [
      "RMSE modèle : 14.26\n",
      "RMSE naive : 24.43\n"
     ]
    }
   ],
   "source": [
    "# régression poly(n=4)\n",
    "rmse_mod, rmse_naive = analyse(X_fit=X_train[:,[0,1,2,3,4,5,6,8]],y_fit=y_train_arr,n=4)[:]\n",
    "liste_rmse.append(rmse_mod)\n",
    "liste_name.append('arrival_all_poly4')"
   ]
  },
  {
   "cell_type": "code",
   "execution_count": 79,
   "metadata": {},
   "outputs": [
    {
     "name": "stdout",
     "output_type": "stream",
     "text": [
      "(37124, 495)\n",
      "{'alpha': array([  1000.        ,   3162.27766017,  10000.        ,  31622.77660168,\n",
      "       100000.        ])}\n",
      "-------voici le meilleur paramètre---------\n",
      "{'alpha': 1000.0}\n",
      "RMSE du modèle : 8.24\n",
      "RMSE naive : 24.43\n"
     ]
    }
   ],
   "source": [
    "# régression poly(n=4) + regularisation\n",
    "rmse_mod, rmse_naive = best_model(X_fit=X_train[:,[0,1,2,3,4,5,6,8]],y_fit=y_train_arr,n=4,params_min=3,params_max=5,nb_params=5)\n",
    "liste_rmse.append(rmse_mod)\n",
    "liste_name.append('arrival_poly4reg')"
   ]
  },
  {
   "cell_type": "markdown",
   "metadata": {},
   "source": [
    "# Performance des modèles finaux sur le test set "
   ]
  },
  {
   "cell_type": "code",
   "execution_count": 80,
   "metadata": {},
   "outputs": [
    {
     "name": "stdout",
     "output_type": "stream",
     "text": [
      "(18285, 210)\n",
      "RMSE du modèle : 23.67\n",
      "RMSE naive : 24.18\n"
     ]
    }
   ],
   "source": [
    "# performance sur le modèle final dans le cas où on cherche à prédire de retard au départ longtemps à l'avance \n",
    "X_fit = X_train[:,1:7]\n",
    "X_fit_t = X_test[:,1:7]\n",
    "\n",
    "y_train = y_train\n",
    "y_test = y_test\n",
    "\n",
    "alpha = 31\n",
    "rmse_mod, rmse_naive,y_predict_lr = perform(X_train=X_fit,X_test=X_fit_t,y_train=y_train,y_test=y_test,alpha=alpha,n=4)"
   ]
  },
  {
   "cell_type": "code",
   "execution_count": 81,
   "metadata": {},
   "outputs": [
    {
     "data": {
      "text/plain": [
       "<function matplotlib.pyplot.show(*args, **kw)>"
      ]
     },
     "execution_count": 81,
     "metadata": {},
     "output_type": "execute_result"
    },
    {
     "data": {
      "image/png": "[encoded data removed]",
      "text/plain": [
       "<Figure size 1152x864 with 1 Axes>"
      ]
     },
     "metadata": {},
     "output_type": "display_data"
    }
   ],
   "source": [
    "# on regarde l'histogramme des prédictions\n",
    "fig = plt.figure(figsize=(16, 12))\n",
    "plt.hist(y_predict_lr, bins=100)\n",
    "plt.title('histogramme des prédictions')\n",
    "\n",
    "plt.show"
   ]
  },
  {
   "cell_type": "code",
   "execution_count": 82,
   "metadata": {},
   "outputs": [
    {
     "name": "stdout",
     "output_type": "stream",
     "text": [
      "8.480173632374022\n",
      "6.200057780797513\n",
      "4.011978009110986\n",
      "10.971602945267406\n",
      "14.561355174645914\n"
     ]
    }
   ],
   "source": [
    "# on note les différent percentiles (utile dans l'API pour afficher les résultats en nuances de couleur)\n",
    "print(np.percentile(y_predict_lr[:], 50))\n",
    "print(np.percentile(y_predict_lr[:], 33.333))\n",
    "print(np.percentile(y_predict_lr[:], 16.666))\n",
    "print(np.percentile(y_predict_lr[:], 66.666))\n",
    "print(np.percentile(y_predict_lr[:], 83.666))\n"
   ]
  },
  {
   "cell_type": "code",
   "execution_count": 83,
   "metadata": {},
   "outputs": [
    {
     "name": "stdout",
     "output_type": "stream",
     "text": [
      "(18285, 330)\n",
      "RMSE du modèle : 20.94\n",
      "RMSE naive : 24.18\n"
     ]
    }
   ],
   "source": [
    "# performance sur le modèle final dans le cas où on cherche à prédire le retard au départ quelques heures à l'avance\n",
    "X_fit = X_train[:,1:8]\n",
    "X_fit_t = X_test[:,1:8]\n",
    "\n",
    "y_train = y_train\n",
    "y_test = y_test\n",
    "\n",
    "alpha = 316\n",
    "rmse_mod, rmse_naive, y_predict_lr = perform(X_train=X_fit,X_test=X_fit_t,y_train=y_train,y_test=y_test,alpha=alpha,n=4)"
   ]
  },
  {
   "cell_type": "code",
   "execution_count": 84,
   "metadata": {},
   "outputs": [
    {
     "name": "stdout",
     "output_type": "stream",
     "text": [
      "(55409, 10)\n",
      "(55409, 2)\n",
      "(37124, 10) (18285, 10) (37124, 1) (18285, 1)\n",
      "(18285, 330)\n",
      "RMSE du modèle : 20.63\n",
      "RMSE naive : 24.28\n",
      "0\n",
      "(18285, 330)\n",
      "RMSE du modèle : 21.10\n",
      "RMSE naive : 24.29\n",
      "200\n",
      "(18285, 330)\n",
      "RMSE du modèle : 21.24\n",
      "RMSE naive : 24.29\n",
      "400\n",
      "(18285, 330)\n",
      "RMSE du modèle : 20.88\n",
      "RMSE naive : 24.29\n",
      "600\n",
      "(18285, 330)\n",
      "RMSE du modèle : 20.99\n",
      "RMSE naive : 24.29\n",
      "800\n",
      "(18285, 330)\n",
      "RMSE du modèle : 21.18\n",
      "RMSE naive : 24.28\n",
      "1000\n",
      "(18285, 330)\n",
      "RMSE du modèle : 20.77\n",
      "RMSE naive : 24.28\n",
      "1200\n",
      "(18285, 330)\n",
      "RMSE du modèle : 20.69\n",
      "RMSE naive : 24.28\n",
      "1400\n",
      "(18285, 330)\n",
      "RMSE du modèle : 20.69\n",
      "RMSE naive : 24.28\n",
      "1600\n",
      "(18285, 330)\n",
      "RMSE du modèle : 20.71\n",
      "RMSE naive : 24.28\n",
      "1800\n",
      "(18285, 330)\n",
      "RMSE du modèle : 20.74\n",
      "RMSE naive : 24.28\n",
      "2000\n",
      "(18285, 330)\n",
      "RMSE du modèle : 20.71\n",
      "RMSE naive : 24.28\n",
      "2200\n",
      "(18285, 330)\n",
      "RMSE du modèle : 20.68\n",
      "RMSE naive : 24.28\n",
      "2400\n",
      "(18285, 330)\n",
      "RMSE du modèle : 20.69\n",
      "RMSE naive : 24.28\n",
      "2600\n",
      "(18285, 330)\n",
      "RMSE du modèle : 20.70\n",
      "RMSE naive : 24.28\n",
      "2800\n",
      "(18285, 330)\n",
      "RMSE du modèle : 20.71\n",
      "RMSE naive : 24.28\n",
      "3000\n",
      "(18285, 330)\n",
      "RMSE du modèle : 20.72\n",
      "RMSE naive : 24.28\n",
      "3200\n",
      "(18285, 330)\n",
      "RMSE du modèle : 20.72\n",
      "RMSE naive : 24.28\n",
      "3400\n",
      "(18285, 330)\n",
      "RMSE du modèle : 20.72\n",
      "RMSE naive : 24.28\n",
      "3600\n",
      "(18285, 330)\n",
      "RMSE du modèle : 20.71\n",
      "RMSE naive : 24.28\n",
      "3800\n",
      "(18285, 330)\n",
      "RMSE du modèle : 20.68\n",
      "RMSE naive : 24.28\n",
      "4000\n",
      "(18285, 330)\n",
      "RMSE du modèle : 20.67\n",
      "RMSE naive : 24.28\n",
      "4200\n",
      "(18285, 330)\n",
      "RMSE du modèle : 20.66\n",
      "RMSE naive : 24.28\n",
      "4400\n",
      "(18285, 330)\n",
      "RMSE du modèle : 20.65\n",
      "RMSE naive : 24.28\n",
      "4600\n",
      "(18285, 330)\n",
      "RMSE du modèle : 20.66\n",
      "RMSE naive : 24.28\n",
      "4800\n",
      "(18285, 330)\n",
      "RMSE du modèle : 20.65\n",
      "RMSE naive : 24.28\n",
      "5000\n",
      "(18285, 330)\n",
      "RMSE du modèle : 20.65\n",
      "RMSE naive : 24.28\n",
      "5200\n",
      "(18285, 330)\n",
      "RMSE du modèle : 20.64\n",
      "RMSE naive : 24.28\n",
      "5400\n",
      "(18285, 330)\n",
      "RMSE du modèle : 20.63\n",
      "RMSE naive : 24.28\n",
      "5600\n",
      "(18285, 330)\n",
      "RMSE du modèle : 20.63\n",
      "RMSE naive : 24.28\n",
      "5800\n",
      "(18285, 330)\n",
      "RMSE du modèle : 20.63\n",
      "RMSE naive : 24.28\n",
      "6000\n",
      "(18285, 330)\n",
      "RMSE du modèle : 20.63\n",
      "RMSE naive : 24.28\n",
      "6200\n",
      "(18285, 330)\n",
      "RMSE du modèle : 20.62\n",
      "RMSE naive : 24.28\n",
      "6400\n",
      "(18285, 330)\n",
      "RMSE du modèle : 20.63\n",
      "RMSE naive : 24.28\n",
      "6600\n",
      "(18285, 330)\n",
      "RMSE du modèle : 20.63\n",
      "RMSE naive : 24.28\n",
      "6800\n",
      "(18285, 330)\n",
      "RMSE du modèle : 20.63\n",
      "RMSE naive : 24.28\n",
      "7000\n",
      "(18285, 330)\n",
      "RMSE du modèle : 20.63\n",
      "RMSE naive : 24.28\n",
      "7200\n",
      "(18285, 330)\n",
      "RMSE du modèle : 20.63\n",
      "RMSE naive : 24.28\n",
      "7400\n",
      "(18285, 330)\n",
      "RMSE du modèle : 20.63\n",
      "RMSE naive : 24.28\n",
      "7600\n",
      "(18285, 330)\n",
      "RMSE du modèle : 20.63\n",
      "RMSE naive : 24.28\n",
      "7800\n",
      "(18285, 330)\n",
      "RMSE du modèle : 20.63\n",
      "RMSE naive : 24.28\n",
      "8000\n",
      "(18285, 330)\n",
      "RMSE du modèle : 20.63\n",
      "RMSE naive : 24.28\n",
      "8200\n",
      "(18285, 330)\n",
      "RMSE du modèle : 20.63\n",
      "RMSE naive : 24.28\n",
      "8400\n",
      "(18285, 330)\n",
      "RMSE du modèle : 20.63\n",
      "RMSE naive : 24.28\n",
      "8600\n",
      "(18285, 330)\n",
      "RMSE du modèle : 20.63\n",
      "RMSE naive : 24.28\n",
      "8800\n",
      "(18285, 330)\n",
      "RMSE du modèle : 20.63\n",
      "RMSE naive : 24.28\n",
      "9000\n",
      "(18285, 330)\n",
      "RMSE du modèle : 20.63\n",
      "RMSE naive : 24.28\n",
      "9200\n",
      "(18285, 330)\n",
      "RMSE du modèle : 20.63\n",
      "RMSE naive : 24.28\n",
      "9400\n",
      "(18285, 330)\n",
      "RMSE du modèle : 20.63\n",
      "RMSE naive : 24.28\n",
      "9600\n",
      "(18285, 330)\n",
      "RMSE du modèle : 20.63\n",
      "RMSE naive : 24.28\n",
      "9800\n"
     ]
    }
   ],
   "source": [
    "# étudier l'impact du nombre d'exemples sur la rmse\n",
    "data_fly2 = df[['DEP_DELAY_NEW','MINUTES','DAY_YEAR','MOY_WD_DAY','MOY_ORIG','MOY_DEST','MOY_TAIL','CASCADE',\n",
    "              'CASCADE_DEST','ARR_DELAY_NEW']]\n",
    "\n",
    "n=10000\n",
    "data_fly2 = shuffle(data_fly2) \n",
    " # creation des tenseurs numpy \n",
    "    # creation des vecteurs X et y \n",
    "    # variables éventuelles \n",
    "X = np.matrix(data_fly2.iloc[:,:])\n",
    "    # scores éventuels \n",
    "y2 = np.transpose(np.matrix(data_fly2.iloc[:,0]))\n",
    "\n",
    "    #X = np.transpose(X)\n",
    "#y = np.transpose(y)\n",
    "print (X.shape)\n",
    "print (y.shape)\n",
    "X_train, X_test, y_train, y_test = train_test_split(X, y2, test_size=0.33, random_state=42)\n",
    "print (X_train.shape, X_test.shape, y_train.shape, y_test.shape)\n",
    "\n",
    "err_t = []\n",
    "for i in range (0,n,200):\n",
    "    # mélanger les données   \n",
    "    \n",
    "    # performance sur le modèle final dans le cas où on cherche à prédire le retard au départ quelques heures à l'avance\n",
    "    X_fit = X_train[0:int(np.around(i*(data_fly2.shape[0])/n))-1,1:8]\n",
    "    X_fit_t = X_test[:,1:8]\n",
    "\n",
    "    y_train2 = y_train[0:int(np.around(i*(data_fly2.shape[0])/n))-1,:]\n",
    "    y_test2 = y_test[:,:]\n",
    "\n",
    "    alpha = 316\n",
    "    rmse_mod, rmse_naive, y_predict_lr = perform(X_train=X_fit,X_test=X_fit_t,y_train=y_train2,y_test=y_test2,alpha=alpha,n=4)\n",
    "    err_t.append(rmse_mod)\n",
    "    print (i)\n",
    "    \n",
    "\n"
   ]
  },
  {
   "cell_type": "code",
   "execution_count": 85,
   "metadata": {},
   "outputs": [
    {
     "name": "stdout",
     "output_type": "stream",
     "text": [
      "50\n"
     ]
    }
   ],
   "source": [
    "print (len(err_t))"
   ]
  },
  {
   "cell_type": "code",
   "execution_count": 86,
   "metadata": {},
   "outputs": [
    {
     "name": "stdout",
     "output_type": "stream",
     "text": [
      "[0, 1, 2, 3, 4, 5, 6, 7, 8, 9, 10, 11, 12, 13, 14, 15, 16, 17, 18, 19, 20, 21, 22, 23, 24, 25, 26, 27, 28, 29, 30, 31, 32, 33, 34, 35, 36, 37, 38, 39, 40, 41, 42, 43, 44, 45, 46, 47, 48, 49]\n",
      "[20.626549322459603, 21.101706860555826, 21.24463844120019, 20.880553510986218, 20.99071929833136, 21.183613624137596, 20.76557895801465, 20.687225812275003, 20.688174941479918, 20.709449090165606, 20.737690172789097, 20.711273677700724, 20.680398869200378, 20.69467763666412, 20.704402598743624, 20.70727200101423, 20.717202580335357, 20.718698116889204, 20.724208406437338, 20.712430502328107, 20.683647726048342, 20.66552590873715, 20.663162453640442, 20.654354079020266, 20.660228784191187, 20.65372606044629, 20.65407781193385, 20.641492345077765, 20.634301567785286, 20.633488365520762, 20.62694241263864, 20.625954297710944, 20.619743342005215, 20.627729108203653, 20.62652914511602, 20.62652914511602, 20.62652914511602, 20.62652914511602, 20.62652914511602, 20.62652914511602, 20.62652914511602, 20.62652914511602, 20.62652914511602, 20.62652914511602, 20.62652914511602, 20.62652914511602, 20.62652914511602, 20.62652914511602, 20.62652914511602, 20.62652914511602]\n"
     ]
    },
    {
     "data": {
      "image/png": "[encoded data removed]",
      "text/plain": [
       "<Figure size 1080x648 with 1 Axes>"
      ]
     },
     "metadata": {},
     "output_type": "display_data"
    }
   ],
   "source": [
    "\n",
    "# regarder si plus de données nous apportent de l'information\n",
    "f, (ax1) = plt.subplots(1, 1, figsize=(15, 9), sharex=True)\n",
    "\n",
    "plt.title(\"erreur en fonction du nombre d'exemples\")\n",
    "plt.xlabel(\"nombres d'exemple en *1519\")\n",
    "plt.ylabel('erreur')\n",
    "\n",
    "indice = []\n",
    "n=50\n",
    "for i in range (n):\n",
    "    \n",
    "    indice.append(i)\n",
    "print (indice)\n",
    "print (err_t)\n",
    "plt.plot(indice[:], err_t[:], linestyle='-', c='blue') \n",
    "\n",
    "plt.plot(indice[:], err_t[:], 'ro', markersize=6, c='blue')\n",
    "\n",
    "#plt.plot(X_droite[:,1], y_droite, linestyle='--', c='red')\n",
    "#plt.plot(X[:,1], y_predict, linestyle='-', c='blue')\n",
    "#plt.axis([2, 50, np.amin(err_t[:]),23.225])\n",
    "plt.savefig('pict_err.png', dpi=400)\n",
    "\n",
    "\n",
    "\n",
    "plt.show()"
   ]
  },
  {
   "cell_type": "code",
   "execution_count": 87,
   "metadata": {},
   "outputs": [
    {
     "name": "stdout",
     "output_type": "stream",
     "text": [
      "4.409418630831892\n",
      "2.838578706721668\n",
      "1.8625761957891105\n",
      "7.777664757502144\n",
      "15.578428306271597\n"
     ]
    }
   ],
   "source": [
    "# on note les différent percentiles (utile dans l'API pour afficher les résultats en nuances de couleur)\n",
    "print(np.percentile(y_predict_lr[:], 50))\n",
    "print(np.percentile(y_predict_lr[:], 33.333))\n",
    "print(np.percentile(y_predict_lr[:], 16.666))\n",
    "print(np.percentile(y_predict_lr[:], 66.666))\n",
    "print(np.percentile(y_predict_lr[:], 83.666))"
   ]
  },
  {
   "cell_type": "code",
   "execution_count": 88,
   "metadata": {},
   "outputs": [
    {
     "name": "stdout",
     "output_type": "stream",
     "text": [
      "(18285, 495)\n",
      "RMSE du modèle : 24.32\n",
      "RMSE naive : 24.29\n"
     ]
    }
   ],
   "source": [
    "# performance sur le modèle final dans le cas où on cherche à prédire le retard au départ quelques heures à l'avance\n",
    "X_fit = X_train[:,[0,1,2,3,4,5,6,8]]\n",
    "X_fit_t = X_test[:,[0,1,2,3,4,5,6,8]]\n",
    "\n",
    "y_train = y_train_arr\n",
    "y_test = y_test_arr\n",
    "\n",
    "alpha = 1000\n",
    "rmse_mod, rmse_naive, y_predict_lr = perform(X_train=X_fit,X_test=X_fit_t,y_train=y_train,y_test=y_test,alpha=alpha,n=4)"
   ]
  },
  {
   "cell_type": "code",
   "execution_count": 89,
   "metadata": {},
   "outputs": [
    {
     "name": "stdout",
     "output_type": "stream",
     "text": [
      "9.275199021673597\n",
      "9.10641516882773\n",
      "8.789484597271024\n",
      "9.43320244831112\n",
      "9.699124624655044\n"
     ]
    }
   ],
   "source": [
    "# on note les différent percentiles (utile dans l'API pour afficher les résultats en nuances de couleur)\n",
    "print(np.percentile(y_predict_lr[:], 50))\n",
    "print(np.percentile(y_predict_lr[:], 33.333))\n",
    "print(np.percentile(y_predict_lr[:], 16.666))\n",
    "print(np.percentile(y_predict_lr[:], 66.666))\n",
    "print(np.percentile(y_predict_lr[:], 83.666))"
   ]
  },
  {
   "cell_type": "code",
   "execution_count": 90,
   "metadata": {},
   "outputs": [
    {
     "data": {
      "text/plain": [
       "<function matplotlib.pyplot.show(*args, **kw)>"
      ]
     },
     "execution_count": 90,
     "metadata": {},
     "output_type": "execute_result"
    },
    {
     "data": {
      "image/png": "[encoded data removed]",
      "text/plain": [
       "<Figure size 1152x864 with 1 Axes>"
      ]
     },
     "metadata": {},
     "output_type": "display_data"
    }
   ],
   "source": [
    "# on regarde l'histogramme des prédictions\n",
    "fig = plt.figure(figsize=(16, 12))\n",
    "plt.hist(y_predict_lr, bins=300)\n",
    "plt.axis([5, 14, 0,16000])\n",
    "plt.title('histogramme des prédictions')\n",
    "plt.savefig('pict_hist_pred.png', dpi=400)\n",
    "\n",
    "plt.show"
   ]
  },
  {
   "cell_type": "markdown",
   "metadata": {},
   "source": [
    "# Enregistrement des modèles utilisés dans l'API "
   ]
  },
  {
   "cell_type": "code",
   "execution_count": 91,
   "metadata": {},
   "outputs": [],
   "source": [
    "from sklearn.externals import joblib"
   ]
  },
  {
   "cell_type": "markdown",
   "metadata": {},
   "source": [
    "On va entrainer les modèles finaux sur l'ensemble du dataset"
   ]
  },
  {
   "cell_type": "code",
   "execution_count": 92,
   "metadata": {},
   "outputs": [
    {
     "name": "stdout",
     "output_type": "stream",
     "text": [
      "(55409, 10)\n",
      "(55409, 2)\n"
     ]
    },
    {
     "data": {
      "text/plain": [
       "['model_big.joblib']"
      ]
     },
     "execution_count": 92,
     "metadata": {},
     "output_type": "execute_result"
    }
   ],
   "source": [
    "# sauvegarde du modèle final dans le cas où on cherche à prédire de retard au départ longtemps à l'avance \n",
    "X_fit = X[:,1:7]\n",
    "y_fit = y[:,0]\n",
    "print (X.shape)\n",
    "print (y.shape)\n",
    "alpha = 31\n",
    "# ajouter des features polynomiales couplées \n",
    "poly = PolynomialFeatures(4)\n",
    "X_fit = poly.fit_transform(X_fit)\n",
    "y_fit = y_fit\n",
    "    \n",
    "# on va standardiser les données de telle sorte à ce que \n",
    "std_scale = preprocessing.StandardScaler().fit(X_fit)\n",
    "# on enregistre le scaler\n",
    "joblib.dump(std_scale, 'model_big_scaler.joblib') \n",
    "X_fit = std_scale.transform(X_fit)\n",
    "    \n",
    "# On crée un modèle de régression linéaire\n",
    "model_big = linear_model.Ridge(alpha=alpha) \n",
    "\n",
    "# entrainer le modèle\n",
    "model_big.fit(X_fit,y_fit)\n",
    "    \n",
    "# save\n",
    "joblib.dump(model_big, 'model_big.joblib') "
   ]
  },
  {
   "cell_type": "code",
   "execution_count": 93,
   "metadata": {},
   "outputs": [
    {
     "data": {
      "text/plain": [
       "['model_medium.joblib']"
      ]
     },
     "execution_count": 93,
     "metadata": {},
     "output_type": "execute_result"
    }
   ],
   "source": [
    "# sauvegarde du modèle final dans le cas où on cherche à prédire de retard au départ quelques heures à l'avance \n",
    "X_fit = X[:,1:8]\n",
    "y_fit = y[:,0]\n",
    "\n",
    "alpha = 316\n",
    "# ajouter des features polynomiales couplées \n",
    "poly = PolynomialFeatures(4)\n",
    "X_fit = poly.fit_transform(X_fit)\n",
    "y_fit = y_fit\n",
    "    \n",
    "# on va standardiser les données de telle sorte à ce que \n",
    "std_scale = preprocessing.StandardScaler().fit(X_fit)\n",
    "# on enregistre le scaler\n",
    "joblib.dump(std_scale, 'model_medium_scaler.joblib') \n",
    "X_fit = std_scale.transform(X_fit)\n",
    "    \n",
    "# On crée un modèle de régression linéaire\n",
    "model_medium = linear_model.Ridge(alpha=alpha) \n",
    "\n",
    "# entrainer le modèle\n",
    "model_medium.fit(X_fit,y_fit)\n",
    "\n",
    "# save\n",
    "joblib.dump(model_medium, 'model_medium.joblib') "
   ]
  },
  {
   "cell_type": "code",
   "execution_count": 94,
   "metadata": {},
   "outputs": [
    {
     "data": {
      "text/plain": [
       "['model_small.joblib']"
      ]
     },
     "execution_count": 94,
     "metadata": {},
     "output_type": "execute_result"
    }
   ],
   "source": [
    "# sauvegarde du modèle final dans le cas où on cherche à prédire de retard au départ quelques heures à l'avance \n",
    "\n",
    "\n",
    "X_fit = X[:,[0,1,2,3,4,5,6,8]]\n",
    "y_fit = y[:,1]\n",
    "\n",
    "alpha = 1000\n",
    "# ajouter des features polynomiales couplées \n",
    "poly = PolynomialFeatures(4)\n",
    "X_fit = poly.fit_transform(X_fit)\n",
    "y_fit = y_fit\n",
    "    \n",
    "# on va standardiser les données de telle sorte à ce que \n",
    "std_scale = preprocessing.StandardScaler().fit(X_fit)\n",
    "# on enregistre le scaler\n",
    "joblib.dump(std_scale, 'model_small_scaler.joblib') \n",
    "X_fit = std_scale.transform(X_fit)\n",
    "    \n",
    "# On crée un modèle de régression linéaire\n",
    "model_small = linear_model.Ridge(alpha=alpha) \n",
    "\n",
    "# entrainer le modèle\n",
    "model_small.fit(X_fit,y_fit)\n",
    "\n",
    "# save \n",
    "joblib.dump(model_small, 'model_small.joblib') "
   ]
  },
  {
   "cell_type": "code",
   "execution_count": 95,
   "metadata": {},
   "outputs": [
    {
     "name": "stderr",
     "output_type": "stream",
     "text": [
      "No handles with labels found to put in legend.\n",
      "C:\\Users\\tanne\\Anaconda3\\lib\\site-packages\\matplotlib\\legend.py:641: UserWarning: Unrecognized location \"modele\". Falling back on \"best\"; valid locations are\n",
      "\tbest\n",
      "\tupper right\n",
      "\tupper left\n",
      "\tlower left\n",
      "\tlower right\n",
      "\tright\n",
      "\tcenter left\n",
      "\tcenter right\n",
      "\tlower center\n",
      "\tupper center\n",
      "\tcenter\n",
      "\n",
      "  % (loc, '\\n\\t'.join(self.codes)))\n"
     ]
    },
    {
     "data": {
      "image/png": "[encoded data removed]",
      "text/plain": [
       "<Figure size 1080x864 with 1 Axes>"
      ]
     },
     "metadata": {},
     "output_type": "display_data"
    }
   ],
   "source": [
    "plt.figure(figsize=(15,12))\n",
    "plt.title('RMSE pour différents modèles')\n",
    "plt.bar(liste_name[:],liste_rmse[:])\n",
    "plt.legend(loc = 'modele')\n",
    "        \n",
    "plt.axis('tight')\n",
    "plt.ylabel('RMSE ')\n",
    "plt.xlabel('modèle')\n",
    "\n",
    "plt.xticks(rotation=90)\n",
    "plt.savefig('pict_rmsepred.png', dpi=400)\n",
    "plt.show()  "
   ]
  }
 ],
 "metadata": {
  "kernelspec": {
   "display_name": "Python 3",
   "language": "python",
   "name": "python3"
  },
  "language_info": {
   "codemirror_mode": {
    "name": "ipython",
    "version": 3
   },
   "file_extension": ".py",
   "mimetype": "text/x-python",
   "name": "python",
   "nbconvert_exporter": "python",
   "pygments_lexer": "ipython3",
   "version": "3.6.5"
  }
 },
 "nbformat": 4,
 "nbformat_minor": 2
}
